{
  "cells": [
    {
      "cell_type": "raw",
      "metadata": {
        "vscode": {
          "languageId": "raw"
        }
      },
      "source": [
        "# Análise Financeira\n",
        "\n",
        "Este notebook contém análises exploratórias e preditivas dos dados financeiros.\n"
      ]
    },
    {
      "cell_type": "code",
      "execution_count": null,
      "metadata": {},
      "outputs": [],
      "source": [
        "import pandas as pd\n",
        "import numpy as np\n",
        "import matplotlib.pyplot as plt\n",
        "import seaborn as sns\n",
        "import plotly.express as px\n",
        "from sqlalchemy import create_engine\n",
        "import os\n",
        "from dotenv import load_dotenv\n",
        "\n",
        "# Load environment variables\n",
        "load_dotenv()\n",
        "\n",
        "# Configure plot style\n",
        "plt.style.use('seaborn')\n",
        "sns.set_palette('husl')\n"
      ]
    },
    {
      "cell_type": "code",
      "execution_count": null,
      "metadata": {},
      "outputs": [],
      "source": [
        "# Database connection\n",
        "db_url = f\"postgresql://{os.getenv('POSTGRES_USER')}:{os.getenv('POSTGRES_PASSWORD')}@{os.getenv('POSTGRES_HOST')}:{os.getenv('POSTGRES_PORT')}/{os.getenv('POSTGRES_DB')}\"\n",
        "engine = create_engine(db_url)\n",
        "\n",
        "# Load data\n",
        "query = \"\"\"\n",
        "SELECT l.*, u.name as user_name\n",
        "FROM lancamento l\n",
        "JOIN user u ON l.user_id = u.id\n",
        "\"\"\"\n",
        "df = pd.read_sql(query, engine)\n"
      ]
    },
    {
      "cell_type": "raw",
      "metadata": {
        "vscode": {
          "languageId": "raw"
        }
      },
      "source": [
        "## Análise Temporal\n"
      ]
    },
    {
      "cell_type": "code",
      "execution_count": null,
      "metadata": {},
      "outputs": [],
      "source": [
        "# Prepare temporal data\n",
        "df['month'] = df['data'].dt.to_period('M')\n",
        "monthly_summary = df.groupby(['month', 'tipo'])['valor'].sum().unstack()\n",
        "\n",
        "# Plot monthly evolution\n",
        "plt.figure(figsize=(15, 6))\n",
        "monthly_summary.plot(kind='bar', stacked=True)\n",
        "plt.title('Evolução Mensal de Receitas e Despesas')\n",
        "plt.xlabel('Mês')\n",
        "plt.ylabel('Valor (R$)')\n",
        "plt.xticks(rotation=45)\n",
        "plt.legend(title='Tipo')\n",
        "plt.tight_layout()\n",
        "plt.show()\n"
      ]
    },
    {
      "cell_type": "raw",
      "metadata": {
        "vscode": {
          "languageId": "raw"
        }
      },
      "source": [
        "## Análise por Categoria\n"
      ]
    },
    {
      "cell_type": "code",
      "execution_count": null,
      "metadata": {},
      "outputs": [],
      "source": [
        "# Category analysis\n",
        "category_summary = df.groupby(['categoria', 'tipo'])['valor'].sum().unstack()\n",
        "\n",
        "# Plot category distribution\n",
        "fig = px.treemap(df, \n",
        "                 path=['tipo', 'categoria'],\n",
        "                 values='valor',\n",
        "                 title='Distribuição de Valores por Categoria')\n",
        "fig.show()\n"
      ]
    },
    {
      "cell_type": "raw",
      "metadata": {
        "vscode": {
          "languageId": "raw"
        }
      },
      "source": [
        "## Análise Estatística\n"
      ]
    },
    {
      "cell_type": "code",
      "execution_count": null,
      "metadata": {},
      "outputs": [],
      "source": [
        "# Statistical summary\n",
        "stats_summary = df.groupby('tipo')['valor'].agg(['count', 'mean', 'std', 'min', 'max'])\n",
        "print(\"\\nResumo Estatístico por Tipo:\")\n",
        "print(stats_summary)\n",
        "\n",
        "# Box plot\n",
        "plt.figure(figsize=(10, 6))\n",
        "sns.boxplot(data=df, x='tipo', y='valor')\n",
        "plt.title('Distribuição de Valores por Tipo')\n",
        "plt.show()\n"
      ]
    },
    {
      "cell_type": "raw",
      "metadata": {
        "vscode": {
          "languageId": "raw"
        }
      },
      "source": [
        "## Análise de Correlações\n"
      ]
    },
    {
      "cell_type": "code",
      "execution_count": null,
      "metadata": {},
      "outputs": [],
      "source": [
        "# Create temporal features\n",
        "df['day_of_week'] = df['data'].dt.dayofweek\n",
        "df['day_of_month'] = df['data'].dt.day\n",
        "df['month_num'] = df['data'].dt.month\n",
        "\n",
        "# Correlation analysis\n",
        "numeric_cols = ['valor', 'day_of_week', 'day_of_month', 'month_num']\n",
        "corr_matrix = df[numeric_cols].corr()\n",
        "\n",
        "plt.figure(figsize=(10, 8))\n",
        "sns.heatmap(corr_matrix, annot=True, cmap='coolwarm', center=0)\n",
        "plt.title('Matriz de Correlação')\n",
        "plt.show()\n"
      ]
    }
  ],
  "metadata": {
    "language_info": {
      "name": "python"
    }
  },
  "nbformat": 4,
  "nbformat_minor": 2
}
